{
 "cells": [
  {
   "cell_type": "code",
   "execution_count": 1,
   "metadata": {
    "collapsed": true
   },
   "outputs": [],
   "source": [
    "import h5py\n",
    "import numpy\n",
    "from sklearn.preprocessing import normalize\n",
    "\n",
    "###############################################################################\n",
    "# This file writes all of the materials data (multi-group nuclear\n",
    "# cross-sections) for the OECD's C5G7 deterministic neutron transport\n",
    "# benchmark problem to an HDF5 file. The script uses the h5py Python package\n",
    "# to interact with the HDF5 file format. This may be a good example for those\n",
    "# wishing ot write their nuclear data to an HDF5 file to import using the\n",
    "# OpenMOC 'materialize' Python module.\n",
    "###############################################################################\n"
   ]
  },
  {
   "cell_type": "markdown",
   "metadata": {},
   "source": [
    "## Initialize HDF5 data structure"
   ]
  },
  {
   "cell_type": "code",
   "execution_count": 2,
   "metadata": {
    "collapsed": true
   },
   "outputs": [],
   "source": [
    "# Create the file to store C5G7 multi-groups cross-sections\n",
    "f = h5py.File('c5g7-mgxs-ensemble-uo2.h5')\n",
    "f.attrs[\"# groups\"] = 69\n",
    "\n",
    "# Create a group to specify that MGXS are split by material (vs. cell)\n",
    "material_group = f.create_group('material')"
   ]
  },
  {
   "cell_type": "markdown",
   "metadata": {},
   "source": [
    "## Read in output from GROUPR and ERRORR"
   ]
  },
  {
   "cell_type": "code",
   "execution_count": null,
   "metadata": {
    "collapsed": true
   },
   "outputs": [],
   "source": [
    "############################################################################\n",
    "# create UO2 data which mimicks convariance data from an ENDF file\n",
    "# Later we use real data from ENDF, here we make just random variations\n",
    "# to test the prcodure of random sampling\n",
    "\n",
    "N = 100  # number of samples; MUST be equal with size of daten_h01_600 et al.\n",
    "\n",
    "############################################################################\n",
    "# load microscopic cross sections generated from NJOY and GROUPR and ERRORR\n",
    "#\n",
    "daten_h01_600  =numpy.load('h01_600_numpy_ensemble.npz')   # total, elastic XS ensemble yr1_1, yr2_2\n",
    "daten_o16_600  =numpy.load('o16_600_numpy_ensemble.npz')   # total, elastic XS ensemble yr1_1, yr2_2\n",
    "daten_o16_1100 =numpy.load('o16_1100_numpy_ensemble.npz')  # total, elastic XS ensemble yr1_1, yr2_2\n",
    "daten_u235_1100=numpy.load('u235_1100_numpy_ensemble.npz') # total, elastic and fission XS ensemble yr1_1, yr2_2, yr18_18\n",
    "daten_u238_1100=numpy.load('u238_1100_numpy_ensemble.npz') # total, elastic and fission XS ensemble yr1_1, yr2_2, yr18_18\n",
    "\n",
    "daten_u235_1100_err=numpy.load('u235_1100_numpy_tables.npz') # energyGroups, totalXS, elasticXS, fissionXS, elasticXSM, nubarXS, chiXS\n",
    "daten_u238_1100_err=numpy.load('u238_1100_numpy_tables.npz') # energyGroups, totalXS, elasticXS, fissionXS, elasticXSM, nubarXS, chiXS\n",
    "daten_o16_1100_err =numpy.load('o16_1100_numpy_tables.npz')  # energyGroups, totalXS, elasticXS, elasticXSM\n",
    "daten_o16_600_err  =numpy.load('o16_600_numpy_tables.npz')   # energyGroups, totalXS, elasticXS, elasticXSM\n",
    "daten_h01_600_err  =numpy.load('h01_600_numpy_tables.npz')   # energyGroups, totalXS, elasticXS, elasticXSM\n",
    "\n",
    "\n",
    "h01_600_t_xs = daten_h01_600['arr_0']     # total cross section\n",
    "h01_600_e_xs = daten_h01_600['arr_1']     # elastic cross section\n",
    "h01_600_e_xsm= daten_h01_600_err['arr_3'] # elastic matrix\n",
    "\n",
    "o16_600_t_xs = daten_o16_600['arr_0']     # total cross section\n",
    "o16_600_e_xs = daten_o16_600['arr_1']     # elastic cross section\n",
    "o16_600_e_xsm= daten_o16_600_err['arr_3'] # elastic matrix\n",
    "\n",
    "o16_1100_t_xs = daten_o16_1100['arr_0']     # total cross section\n",
    "o16_1100_e_xs = daten_o16_1100['arr_1']     # elastic cross section\n",
    "o16_1100_e_xsm= daten_o16_1100_err['arr_3'] # elastic matrix\n",
    "\n",
    "u235_1100_t_xs = daten_u235_1100['arr_0']  # total cross section\n",
    "u235_1100_e_xs = daten_u235_1100['arr_1']  # elastic cross section\n",
    "u235_1100_f_xs = daten_u235_1100['arr_2']  # fission cross section\n",
    "u235_1100_e_xsm   = daten_u235_1100_err['arr_4']  # elastic matrix\n",
    "u235_1100_f_nubar = daten_u235_1100_err['arr_5']  # nubar\n",
    "u235_1100_f_chi   = daten_u235_1100_err['arr_6']  # chi\n",
    "\n",
    "u238_1100_t_xs = daten_u238_1100['arr_0']  # total cross section\n",
    "u238_1100_e_xs = daten_u238_1100['arr_1']  # elastic cross section\n",
    "u238_1100_f_xs = daten_u238_1100['arr_2']  # fission cross section\n",
    "u238_1100_e_xsm   = daten_u238_1100_err['arr_4']  # elastic matrix\n",
    "u238_1100_f_nubar = daten_u238_1100_err['arr_5']  # nubar\n",
    "u238_1100_f_chi   = daten_u238_1100_err['arr_6']  # chi"
   ]
  },
  {
   "cell_type": "markdown",
   "metadata": {},
   "source": [
    "## Material constants"
   ]
  },
  {
   "cell_type": "code",
   "execution_count": null,
   "metadata": {
    "collapsed": true
   },
   "outputs": [],
   "source": [
    "density_h20 = 0.662 # g/cm3\n",
    "density_uo2 = 10.15 # g/cm3\n",
    "enr = 0.04 # 4% enrichment U235\n",
    "\n",
    "uo2_m =  270.072  # g/mol molecular weight\n",
    "h20_m =  18.015   # g/mol molecular weight\n",
    "mol   = 6.022E+23  # 1 mol of particles\n",
    "barn  = 1.0E-24    # cm2\n",
    "\n",
    "nd_h20 = density_h20/h20_m  # mol/cm3\n",
    "nd_uo2 = density_uo2/uo2_m  # mol/cm3\n",
    "\n",
    "n_u235_fuel = nd_uo2*mol*enr         # atoms/cm3\n",
    "n_u238_fuel = nd_uo2*mol*(1.0-enr)   # atoms/cm3\n",
    "n_o_fuel    = nd_uo2*mol*2.0         # atoms/cm3\n",
    "n_o_mod     = nd_h20*mol             # atoms/cm3\n",
    "n_h_mod     = nd_h20*mol*2.0         # atoms/cm3\n",
    "\n",
    "# microscopic cross sections are in barn\n",
    "# macroscopic cross sections are in 1/cm"
   ]
  },
  {
   "cell_type": "markdown",
   "metadata": {},
   "source": [
    "## Material cross section preparation "
   ]
  },
  {
   "cell_type": "code",
   "execution_count": null,
   "metadata": {
    "collapsed": true
   },
   "outputs": [],
   "source": [
    "xs_t_moderator = (n_h_mod * h01_600_t_xs + n_o_mod * o16_600_t_xs)*barn\n",
    "xs_e_moderator = (n_h_mod * h01_600_e_xs + n_o_mod * o16_600_e_xs)*barn\n",
    "\n",
    "# bring energy groups into right order, i.e. from high to low energy\n",
    "xs_t_moderator = numpy.flip(xs_t_moderator, axis=0)\n",
    "xs_e_moderator = numpy.flip(xs_e_moderator, axis=0)\n",
    "\n",
    "xs_t_fuel = (n_o_fuel * o16_1100_t_xs + n_u238_fuel * u238_1100_t_xs + n_u235_fuel * u235_1100_t_xs)*barn\n",
    "xs_e_fuel = (n_o_fuel * o16_1100_e_xs + n_u238_fuel * u238_1100_e_xs + n_u235_fuel * u235_1100_e_xs)*barn\n",
    "xs_f_fuel = (                           n_u238_fuel * u238_1100_f_xs + n_u235_fuel * u235_1100_f_xs)*barn\n",
    "\n",
    "xs_t_fuel = numpy.flip(xs_t_fuel, axis=0)\n",
    "xs_e_fuel = numpy.flip(xs_e_fuel, axis=0)\n",
    "xs_f_fuel = numpy.flip(xs_f_fuel, axis=0)\n",
    "\n",
    "chi_fuel   = (n_u235_fuel * u235_1100_f_chi + n_u238_fuel * u238_1100_f_chi)/(n_u235_fuel + n_u238_fuel)\n",
    "nubar_fuel = (n_u235_fuel * u235_1100_f_nubar + n_u238_fuel * u238_1100_f_nubar)/(n_u235_fuel + n_u238_fuel)\n",
    "\n",
    "chi_fuel   = numpy.flip(chi_fuel, axis=0)\n",
    "nubar_fuel = numpy.flip(nubar_fuel, axis=0)\n",
    "nubar_fuel = nubar_fuel[:,1]\n",
    "\n",
    "chi_fuel   = chi_fuel.flatten()\n",
    "nubar_fuel = nubar_fuel.flatten()\n",
    "\n",
    "xsm_e_fuel = (n_o_fuel * o16_1100_e_xsm + n_u238_fuel * u238_1100_e_xsm + n_u235_fuel * u235_1100_e_xsm)*barn\n",
    "xsm_e_moderator = (n_h_mod * h01_600_e_xsm + n_o_mod * o16_600_e_xsm)*barn\n",
    "\n",
    "xsm_e_fuel = numpy.flip(xsm_e_fuel,axis=0)\n",
    "xsm_e_fuel = numpy.flip(xsm_e_fuel,axis=1)\n",
    "\n",
    "xsm_e_moderator = numpy.flip(xsm_e_moderator,axis=0)\n",
    "xsm_e_moderator = numpy.flip(xsm_e_moderator,axis=1)\n"
   ]
  },
  {
   "cell_type": "markdown",
   "metadata": {},
   "source": [
    "## Creation of cross section ensemble"
   ]
  },
  {
   "cell_type": "code",
   "execution_count": null,
   "metadata": {
    "collapsed": true
   },
   "outputs": [],
   "source": [
    "for n in range(100):\n",
    "    #\n",
    "    ###############################################################################\n",
    "    ##############################      UO2             ###########################\n",
    "    ###############################################################################\n",
    "    # Create a subgroup for UO2 materials data\n",
    "    uo2_name = 'UO2-'+str(n)\n",
    "    uo2 = material_group.create_group(uo2_name)\n",
    "\n",
    "    # Total cross section -----------------------------------------------------------\n",
    "    # -------------------------------------------------------------------------------\n",
    "    sigma_t = xs_t_fuel[:,n]\n",
    "\n",
    "    # Scattering cross section -------------------------------------------------------\n",
    "    # -------------------------------------------------------------------------------\n",
    "    # https://stackoverflow.com/questions/8904694/how-to-normalize-a-2-dimensional-numpy-array-in-python-less-verbose\n",
    "    sigma_s = normalize(xsm_e_fuel, axis=1, norm='l1')\n",
    "    sigma_s = sigma_s * xs_e_fuel[:,n]\n",
    "\n",
    "    # Fission cross section ---------------------------------------------------------\n",
    "    # -------------------------------------------------------------------------------\n",
    "    sigma_f = xs_f_fuel[:,n]\n",
    "\n",
    "    # Nu fission cross section ------------------------------------------------------\n",
    "    # -------------------------------------------------------------------------------\n",
    "    nu_sigma_f = sigma_f * nubar_fuel\n",
    "    chi = chi_fuel\n",
    "\n",
    "    # Create datasets for each cross-section type\n",
    "    uo2.create_dataset('total', data=sigma_t)\n",
    "    uo2.create_dataset('scatter matrix', data=sigma_s)\n",
    "    uo2.create_dataset('fission', data=sigma_f)\n",
    "    uo2.create_dataset('nu-fission', data=nu_sigma_f)\n",
    "    uo2.create_dataset('chi', data=chi)\n",
    "\n",
    "    ###############################################################################\n",
    "    ##############################      Guide Tube      ###########################\n",
    "    ###############################################################################\n",
    "\n",
    "    # Create a subgroup for guide tube materials data\n",
    "    gd_name = 'Guide_Tube-' + str(n)\n",
    "    guide_tube = material_group.create_group(gd_name)\n",
    "\n",
    "    sigma_t = xs_t_moderator[:,n]\n",
    "\n",
    "    sigma_s = normalize(xsm_e_moderator, axis=1, norm='l1')\n",
    "    sigma_s = sigma_s * xs_e_moderator[:,n]\n",
    "\n",
    "    sigma_f = numpy.zeros(69)\n",
    "    nu_sigma_f = numpy.zeros(69)\n",
    "    chi = numpy.zeros(69)\n",
    "\n",
    "    # Create datasets for each cross-section type\n",
    "    guide_tube.create_dataset('total', data=sigma_t)\n",
    "    guide_tube.create_dataset('scatter matrix', data=sigma_s)\n",
    "    guide_tube.create_dataset('fission', data=sigma_f)\n",
    "    guide_tube.create_dataset('nu-fission', data=nu_sigma_f)\n",
    "    guide_tube.create_dataset('chi', data=chi)\n",
    "\n",
    "\n",
    "    ###############################################################################\n",
    "    ################################      Water      ##############################\n",
    "    ###############################################################################\n",
    "\n",
    "    # Create a subgroup for water materials data\n",
    "    h20_name = 'Water-' + str(n)\n",
    "    water = material_group.create_group(h20_name)\n",
    "\n",
    "    sigma_t = xs_t_moderator[:, n]\n",
    "\n",
    "    sigma_s = normalize(xsm_e_moderator, axis=1, norm='l1')\n",
    "    sigma_s = sigma_s * xs_e_moderator[:, n]\n",
    "\n",
    "    sigma_f = numpy.zeros(69)\n",
    "    nu_sigma_f = numpy.zeros(69)\n",
    "    chi = numpy.zeros(69)\n",
    "\n",
    "    # Create datasets for each cross-section type\n",
    "    water.create_dataset('total', data=sigma_t)\n",
    "    water.create_dataset('scatter matrix', data=sigma_s)\n",
    "    water.create_dataset('fission', data=sigma_f)\n",
    "    water.create_dataset('nu-fission', data=nu_sigma_f)\n",
    "    water.create_dataset('chi', data=chi)\n",
    "\n",
    "\n",
    "\n",
    "# Close the hdf5 data file\n",
    "f.close()\n"
   ]
  }
 ],
 "metadata": {
  "kernelspec": {
   "display_name": "Python 3",
   "language": "python",
   "name": "python3"
  },
  "language_info": {
   "codemirror_mode": {
    "name": "ipython",
    "version": 3
   },
   "file_extension": ".py",
   "mimetype": "text/x-python",
   "name": "python",
   "nbconvert_exporter": "python",
   "pygments_lexer": "ipython3",
   "version": "3.6.7"
  }
 },
 "nbformat": 4,
 "nbformat_minor": 2
}
